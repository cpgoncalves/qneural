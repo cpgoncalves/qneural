{
 "cells": [
  {
   "cell_type": "code",
   "execution_count": null,
   "id": "e4cd0779-2ed5-4937-b3a9-11541fb373f2",
   "metadata": {},
   "outputs": [],
   "source": [
    "import numpy as np\n",
    "\n",
    "# Importing standard Qiskit libraries\n",
    "from qiskit import QuantumCircuit, QuantumRegister, ClassicalRegister, execute, Aer, IBMQ\n",
    "from qiskit.providers.ibmq import least_busy\n",
    "from qiskit.providers.aer import AerProvider\n",
    "from qiskit.tools.jupyter import *\n",
    "from qiskit.visualization import *\n",
    "from ibm_quantum_widgets import *\n",
    "#from qiskit.providers.aer import QasmSimulator\n",
    "from qiskit.quantum_info.operators import Operator\n",
    "import numpy as np\n",
    "from math import pi\n",
    "from matplotlib import pyplot as plt\n",
    "\n",
    "# Loading your IBM Quantum account(s)\n",
    "provider = IBMQ.load_account()"
   ]
  },
  {
   "cell_type": "code",
   "execution_count": null,
   "id": "0fc3f051-3ce1-4595-a89d-69cb236c8d81",
   "metadata": {},
   "outputs": [],
   "source": [
    "#QUANTUM SIMULATOR FOR RUNNING QUANTUM RECURRENT NEURAL NETWORK ON IBM'S QUANTUM COMPUTERS\n",
    "# REFERENCE: Gonçalves CP (2022) Quantum Neural Networks, Computational Field Theory and Dynamics. Int J Swarm Evol Comput. 11: 246.\n",
    "\n",
    "transient=1000\n",
    "T=50\n",
    "r = 0.550129597\n",
    "backend= #PLACE BACKEND HERE\n",
    "num_shots=5000\n",
    "    \n",
    "\n",
    "I = np.matrix([[1,0],[0,1]])\n",
    "V = np.matrix([[0,-1],[1,0]])\n",
    "Ur=np.cos(r*pi/2)*I + np.sin(r*pi/2)*V\n",
    "P0 = np.matrix([[1,0],[0,0]])\n",
    "P1 = np.matrix([[0,0],[0,1]])\n",
    "\n",
    "U01=np.matrix(np.kron(P0,I))+np.matrix(np.kron(P1,Ur))\n",
    "U10=np.matrix(np.kron(I,P0))+np.matrix(np.kron(Ur,P1))\n",
    "\n",
    "Map = np.dot(U01,U10)\n",
    "\n",
    "state = np.matrix([1/2,1/2,1/2,1/2]).T\n",
    "states = []\n",
    "\n",
    "for t in range(0,transient):\n",
    "    state = np.dot(Map,state)\n",
    "   \n",
    "for t in range(0,T):\n",
    "    state = np.dot(Map,state)\n",
    "    states.append(state)\n",
    "\n",
    "\n",
    "P00=[]\n",
    "P01=[]\n",
    "P10=[]\n",
    "P11=[]\n",
    "N0 = []\n",
    "N1 = []\n",
    "counts_results=[]\n",
    "\n",
    "for state in states:\n",
    "    n0 = QuantumRegister(1,'n0')\n",
    "    n1 = QuantumRegister(1,'n1')\n",
    "    c = ClassicalRegister(2,'c')\n",
    "    \n",
    "    Circuit = QuantumCircuit()\n",
    "    Circuit.add_register(n0)\n",
    "    Circuit.add_register(n1)\n",
    "    Circuit.add_register(c)\n",
    "    \n",
    "    \n",
    "    Circuit.initialize(state.T.tolist()[0])\n",
    "    \n",
    "    Circuit.measure(n0,c[0])\n",
    "    Circuit.measure(n1,c[1])\n",
    "       \n",
    "    # Get the backend\n",
    "    if backend == 'qasm_simulator':\n",
    "        device = Aer.get_backend(backend) # use Aer if the backend is the 'qasm_simulator' (default)\n",
    "    else:\n",
    "        device = provider.get_backend(backend) # use the provider otherwise\n",
    "        \n",
    "    \n",
    "    # Execute the circuit on the device for the number of shots defined\n",
    "    job = execute(Circuit, device, shots=num_shots)\n",
    "    \n",
    "     # Get the simulation results for the repeated experiments\n",
    "    result = job.result()\n",
    "    \n",
    "    # Extract the counts, and return them for further processing\n",
    "    counts = result.get_counts(Circuit)\n",
    "    \n",
    "    counts_results.append(counts)\n",
    "    \n",
    "    keys=counts.keys()\n",
    "    \n",
    "    C01 = 0\n",
    "    C10 = 0\n",
    "    C11 = 0\n",
    "    \n",
    "    \n",
    "    if '00' in keys:\n",
    "        P00.append(counts['00'])\n",
    "    else:\n",
    "        P00.append(0)\n",
    "        \n",
    "    if '01' in keys:\n",
    "        C01 = counts['01']\n",
    "        P01.append(counts['01'])\n",
    "    else:\n",
    "        C01 = 0\n",
    "        P01.append(0)\n",
    "    \n",
    "    if '10' in keys:\n",
    "        C10 = counts['10']\n",
    "        P10.append(counts['10'])\n",
    "    else:\n",
    "        C10 = 0\n",
    "        P10.append(0)\n",
    "        \n",
    "    if '11' in keys:\n",
    "        C11 = counts['11']\n",
    "        P11.append(counts['11'])\n",
    "    else:\n",
    "        C11 = 0\n",
    "        P11.append(0)\n",
    "    \n",
    "    \n",
    "    N0.append((C10+C11)/num_shots)\n",
    "    N1.append((C01+C11)/num_shots)\n",
    "    \n",
    "\n",
    "print(\"\\nP00\")\n",
    "\n",
    "for t in range(0,len(P00)):\n",
    "    print(P00[t])\n",
    "\n",
    "\n",
    "print(\"\\nP01\")\n",
    "\n",
    "for t in range(0,len(P01)):\n",
    "    print(P01[t])\n",
    "    \n",
    "print(\"\\nP10\")\n",
    "\n",
    "for t in range(0,len(P10)):\n",
    "    print(P10[t])\n",
    "\n",
    "print(\"\\nP11\")\n",
    "\n",
    "for t in range(0,len(P11)):\n",
    "    print(P11[t])\n",
    "    \n",
    "print(\"\\nN0\")\n",
    "for t in range(0,len(N0)):\n",
    "    print(N0[t])\n",
    "\n",
    "print(\"\\nN1\")\n",
    "for t in range(0,len(N1)):\n",
    "    print(N1[t]) \n",
    "    \n",
    "plt.scatter(N0,N1,s=1)\n",
    "plt.show()"
   ]
  }
 ],
 "metadata": {
  "kernelspec": {
   "display_name": "Python 3 (ipykernel)",
   "language": "python",
   "name": "python3"
  },
  "language_info": {
   "codemirror_mode": {
    "name": "ipython",
    "version": 3
   },
   "file_extension": ".py",
   "mimetype": "text/x-python",
   "name": "python",
   "nbconvert_exporter": "python",
   "pygments_lexer": "ipython3",
   "version": "3.10.8"
  },
  "widgets": {
   "application/vnd.jupyter.widget-state+json": {
    "state": {
     "01cce9e4c8f1437b9bd4d7766d9adba6": {
      "model_module": "@jupyter-widgets/controls",
      "model_module_version": "2.0.0",
      "model_name": "HTMLStyleModel",
      "state": {
       "description_width": "",
       "font_size": null,
       "text_color": null
      }
     },
     "06fe4fd15c2041499c6beccce0e0ff71": {
      "model_module": "@jupyter-widgets/base",
      "model_module_version": "2.0.0",
      "model_name": "LayoutModel",
      "state": {
       "margin": "0px 0px 0px 37px",
       "width": "600px"
      }
     },
     "07359dd2c2c5457a8eb17d64d31f91d2": {
      "model_module": "@jupyter-widgets/controls",
      "model_module_version": "2.0.0",
      "model_name": "HTMLStyleModel",
      "state": {
       "description_width": "",
       "font_size": null,
       "text_color": null
      }
     },
     "1a22cfb160ee4eeb824456d498a9acb3": {
      "model_module": "@jupyter-widgets/controls",
      "model_module_version": "2.0.0",
      "model_name": "HTMLModel",
      "state": {
       "layout": "IPY_MODEL_bfaba02b137a438c81896e92a2bf7843",
       "style": "IPY_MODEL_347ddd2fbf7b4748857179ffb8e689bd",
       "value": "<h5>Job ID</h5>"
      }
     },
     "1dde4da7bff841a9b760950884042686": {
      "model_module": "@jupyter-widgets/controls",
      "model_module_version": "2.0.0",
      "model_name": "HBoxModel",
      "state": {
       "children": [
        "IPY_MODEL_1a22cfb160ee4eeb824456d498a9acb3",
        "IPY_MODEL_5a6bb17c30c14ffcb98905267bdc0a21",
        "IPY_MODEL_c9fd3a5e3bd848bf89494bf2a127906d",
        "IPY_MODEL_7dd6048e954f41ddaf0b287ebdba3eb0",
        "IPY_MODEL_98b0c6541a1743f690ad813f423bcfbb"
       ],
       "layout": "IPY_MODEL_06fe4fd15c2041499c6beccce0e0ff71"
      }
     },
     "347ddd2fbf7b4748857179ffb8e689bd": {
      "model_module": "@jupyter-widgets/controls",
      "model_module_version": "2.0.0",
      "model_name": "HTMLStyleModel",
      "state": {
       "description_width": "",
       "font_size": null,
       "text_color": null
      }
     },
     "35f2455e43aa4420bbe2c6e7905f0643": {
      "model_module": "@jupyter-widgets/controls",
      "model_module_version": "2.0.0",
      "model_name": "HTMLStyleModel",
      "state": {
       "description_width": "",
       "font_size": null,
       "text_color": null
      }
     },
     "4e3c74aab917422fb760e80f76549a34": {
      "model_module": "@jupyter-widgets/controls",
      "model_module_version": "2.0.0",
      "model_name": "HTMLStyleModel",
      "state": {
       "description_width": "",
       "font_size": null,
       "text_color": null
      }
     },
     "5a6bb17c30c14ffcb98905267bdc0a21": {
      "model_module": "@jupyter-widgets/controls",
      "model_module_version": "2.0.0",
      "model_name": "HTMLModel",
      "state": {
       "layout": "IPY_MODEL_9faf8b7dc5d1401aa11adb2b35944bbb",
       "style": "IPY_MODEL_f77260bb51e248f48b5529854698c8b0",
       "value": "<h5>Backend</h5>"
      }
     },
     "6409f7acbf5644fb85e085131e2738ea": {
      "model_module": "@jupyter-widgets/base",
      "model_module_version": "2.0.0",
      "model_name": "LayoutModel",
      "state": {
       "margin": "0px 0px 10px 0px"
      }
     },
     "6fc7714163004971b82e213463aa5277": {
      "model_module": "@jupyter-widgets/controls",
      "model_module_version": "2.0.0",
      "model_name": "GridBoxModel",
      "state": {
       "children": [
        "IPY_MODEL_86fa4b5a43224bf6995ca5eefce62817"
       ],
       "layout": "IPY_MODEL_a37ff9e74ba34c63ab327707671abf9a"
      }
     },
     "7dd6048e954f41ddaf0b287ebdba3eb0": {
      "model_module": "@jupyter-widgets/controls",
      "model_module_version": "2.0.0",
      "model_name": "HTMLModel",
      "state": {
       "layout": "IPY_MODEL_aa5a1aee85634420b1f1d240b8428407",
       "style": "IPY_MODEL_01cce9e4c8f1437b9bd4d7766d9adba6",
       "value": "<h5>Queue</h5>"
      }
     },
     "86fa4b5a43224bf6995ca5eefce62817": {
      "model_module": "@jupyter-widgets/controls",
      "model_module_version": "2.0.0",
      "model_name": "ButtonModel",
      "state": {
       "button_style": "primary",
       "description": "Clear",
       "layout": "IPY_MODEL_dd0df4cc20c34c5d82b3fb56310c2599",
       "style": "IPY_MODEL_c490e487b023457bb8c8cb8feffc2b18",
       "tooltip": null
      }
     },
     "98b0c6541a1743f690ad813f423bcfbb": {
      "model_module": "@jupyter-widgets/controls",
      "model_module_version": "2.0.0",
      "model_name": "HTMLModel",
      "state": {
       "layout": "IPY_MODEL_c19d916f803e4130b0b1b702bae9ba8a",
       "style": "IPY_MODEL_4e3c74aab917422fb760e80f76549a34",
       "value": "<h5>Message</h5>"
      }
     },
     "9faf8b7dc5d1401aa11adb2b35944bbb": {
      "model_module": "@jupyter-widgets/base",
      "model_module_version": "2.0.0",
      "model_name": "LayoutModel",
      "state": {
       "width": "145px"
      }
     },
     "a37ff9e74ba34c63ab327707671abf9a": {
      "model_module": "@jupyter-widgets/base",
      "model_module_version": "2.0.0",
      "model_name": "LayoutModel",
      "state": {
       "grid_template_areas": "\n                                       \". . . . right \"\n                                        ",
       "grid_template_columns": "20% 20% 20% 20% 20%",
       "width": "100%"
      }
     },
     "aa5a1aee85634420b1f1d240b8428407": {
      "model_module": "@jupyter-widgets/base",
      "model_module_version": "2.0.0",
      "model_name": "LayoutModel",
      "state": {
       "width": "70px"
      }
     },
     "bfaba02b137a438c81896e92a2bf7843": {
      "model_module": "@jupyter-widgets/base",
      "model_module_version": "2.0.0",
      "model_name": "LayoutModel",
      "state": {
       "width": "190px"
      }
     },
     "c105260d050a4bcebe029e20302b66c4": {
      "model_module": "@jupyter-widgets/controls",
      "model_module_version": "2.0.0",
      "model_name": "HTMLModel",
      "state": {
       "layout": "IPY_MODEL_6409f7acbf5644fb85e085131e2738ea",
       "style": "IPY_MODEL_07359dd2c2c5457a8eb17d64d31f91d2",
       "value": "<p style='font-family: IBM Plex Sans, Arial, Helvetica, sans-serif; font-size: 20px; font-weight: medium;'>Circuit Properties</p>"
      }
     },
     "c10ee6c0e1224ee0b222be5eb86d223b": {
      "model_module": "@jupyter-widgets/base",
      "model_module_version": "2.0.0",
      "model_name": "LayoutModel",
      "state": {
       "width": "95px"
      }
     },
     "c19d916f803e4130b0b1b702bae9ba8a": {
      "model_module": "@jupyter-widgets/base",
      "model_module_version": "2.0.0",
      "model_name": "LayoutModel",
      "state": {}
     },
     "c490e487b023457bb8c8cb8feffc2b18": {
      "model_module": "@jupyter-widgets/controls",
      "model_module_version": "2.0.0",
      "model_name": "ButtonStyleModel",
      "state": {
       "font_family": null,
       "font_size": null,
       "font_style": null,
       "font_variant": null,
       "font_weight": null,
       "text_color": null,
       "text_decoration": null
      }
     },
     "c9fd3a5e3bd848bf89494bf2a127906d": {
      "model_module": "@jupyter-widgets/controls",
      "model_module_version": "2.0.0",
      "model_name": "HTMLModel",
      "state": {
       "layout": "IPY_MODEL_c10ee6c0e1224ee0b222be5eb86d223b",
       "style": "IPY_MODEL_35f2455e43aa4420bbe2c6e7905f0643",
       "value": "<h5>Status</h5>"
      }
     },
     "dd0df4cc20c34c5d82b3fb56310c2599": {
      "model_module": "@jupyter-widgets/base",
      "model_module_version": "2.0.0",
      "model_name": "LayoutModel",
      "state": {
       "grid_area": "right",
       "padding": "0px 0px 0px 0px",
       "width": "70px"
      }
     },
     "f77260bb51e248f48b5529854698c8b0": {
      "model_module": "@jupyter-widgets/controls",
      "model_module_version": "2.0.0",
      "model_name": "HTMLStyleModel",
      "state": {
       "description_width": "",
       "font_size": null,
       "text_color": null
      }
     }
    },
    "version_major": 2,
    "version_minor": 0
   }
  }
 },
 "nbformat": 4,
 "nbformat_minor": 5
}
